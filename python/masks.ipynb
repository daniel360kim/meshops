{
 "cells": [
  {
   "attachments": {},
   "cell_type": "markdown",
   "metadata": {},
   "source": [
    "Import Pytorch"
   ]
  },
  {
   "cell_type": "code",
   "execution_count": 2,
   "metadata": {},
   "outputs": [],
   "source": [
    "import torch"
   ]
  },
  {
   "attachments": {},
   "cell_type": "markdown",
   "metadata": {},
   "source": [
    "Define Variable"
   ]
  },
  {
   "cell_type": "code",
   "execution_count": 3,
   "metadata": {},
   "outputs": [],
   "source": [
    "x = torch.tensor([1, 2, 3, 4, 5])"
   ]
  },
  {
   "attachments": {},
   "cell_type": "markdown",
   "metadata": {},
   "source": [
    "Create a mask\n"
   ]
  },
  {
   "cell_type": "code",
   "execution_count": 4,
   "metadata": {},
   "outputs": [],
   "source": [
    "mask = torch.randint(0, 2, (2)) > 0.5\n"
   ]
  },
  {
   "attachments": {},
   "cell_type": "markdown",
   "metadata": {},
   "source": [
    "\n",
    "Apply the mask\n"
   ]
  },
  {
   "cell_type": "code",
   "execution_count": 5,
   "metadata": {},
   "outputs": [],
   "source": [
    "tensor = torch.randn(10, 10)\n",
    "masked_tensor = torch.where(mask, tensor, torch.zeros_like(tensor))"
   ]
  },
  {
   "attachments": {},
   "cell_type": "markdown",
   "metadata": {},
   "source": [
    "Print the result"
   ]
  },
  {
   "cell_type": "code",
   "execution_count": 6,
   "metadata": {},
   "outputs": [
    {
     "name": "stdout",
     "output_type": "stream",
     "text": [
      "tensor([[ 0.0000e+00,  0.0000e+00,  0.0000e+00,  8.0371e-01,  0.0000e+00,\n",
      "          0.0000e+00, -1.9741e-01,  0.0000e+00,  0.0000e+00,  0.0000e+00],\n",
      "        [ 0.0000e+00,  0.0000e+00, -6.0081e-02,  0.0000e+00,  8.9872e-01,\n",
      "          4.9656e-04,  0.0000e+00,  2.7977e-02,  0.0000e+00,  0.0000e+00],\n",
      "        [ 0.0000e+00,  0.0000e+00,  0.0000e+00,  1.4459e+00,  0.0000e+00,\n",
      "          0.0000e+00,  0.0000e+00, -9.4487e-01, -1.7387e+00,  0.0000e+00],\n",
      "        [ 0.0000e+00,  0.0000e+00,  0.0000e+00, -1.0488e-01, -9.0868e-01,\n",
      "          0.0000e+00, -4.8444e-02,  0.0000e+00,  0.0000e+00,  0.0000e+00],\n",
      "        [ 3.3343e+00,  1.2324e+00,  1.5391e+00, -6.9413e-01,  0.0000e+00,\n",
      "          0.0000e+00, -2.6675e-01,  0.0000e+00, -1.0322e+00,  3.1393e-01],\n",
      "        [-1.8595e+00,  0.0000e+00,  0.0000e+00,  0.0000e+00,  0.0000e+00,\n",
      "          0.0000e+00,  0.0000e+00,  0.0000e+00, -8.8793e-01,  0.0000e+00],\n",
      "        [-9.8095e-01,  0.0000e+00,  4.6492e-01,  0.0000e+00,  7.8889e-01,\n",
      "          1.6227e-01,  0.0000e+00,  0.0000e+00,  0.0000e+00,  0.0000e+00],\n",
      "        [ 0.0000e+00,  0.0000e+00,  4.6955e-01, -2.1397e-01,  2.5507e-01,\n",
      "          6.2729e-02, -1.0291e+00, -1.6729e+00,  1.5582e+00, -5.8198e-01],\n",
      "        [ 4.7426e-01, -7.7629e-01,  0.0000e+00,  0.0000e+00,  0.0000e+00,\n",
      "          0.0000e+00,  0.0000e+00,  0.0000e+00,  0.0000e+00,  0.0000e+00],\n",
      "        [ 0.0000e+00,  0.0000e+00,  1.6969e+00,  0.0000e+00,  0.0000e+00,\n",
      "          0.0000e+00,  0.0000e+00, -8.9684e-01,  1.1074e+00,  0.0000e+00]])\n"
     ]
    }
   ],
   "source": [
    "print(masked_tensor)"
   ]
  }
 ],
 "metadata": {
  "kernelspec": {
   "display_name": "Python 3",
   "language": "python",
   "name": "python3"
  },
  "language_info": {
   "codemirror_mode": {
    "name": "ipython",
    "version": 3
   },
   "file_extension": ".py",
   "mimetype": "text/x-python",
   "name": "python",
   "nbconvert_exporter": "python",
   "pygments_lexer": "ipython3",
   "version": "3.11.3"
  },
  "orig_nbformat": 4
 },
 "nbformat": 4,
 "nbformat_minor": 2
}
