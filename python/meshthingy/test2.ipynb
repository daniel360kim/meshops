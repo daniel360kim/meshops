{
 "cells": [
  {
   "cell_type": "code",
   "execution_count": null,
   "metadata": {},
   "outputs": [],
   "source": [
    "import torch\n",
    "\n",
    "def weighted_pool(arr: torch.Tensor | SupportsIndex, row: int, col: int, kernel: torch.Tensor) -> list:   \n",
    "    weighted_sum = 0.0\n",
    "    kernel_weights_used = 0.0\n",
    "    \n",
    "    _kernel_lrow = kernel.shape[0] // 2 # radius along rows (horizontal), also the center row of the kernel\n",
    "    _kernel_lcol = kernel.shape[1] // 2 # radius along cols (vertical), also the center col of the kernel\n",
    "    \n",
    "    arr_interior = arr[_kernel_lrow:-_kernel_lrow, _kernel_lcol:-_kernel_lcol]\n",
    "    \n",
    "    # optimize to only weighted pool the edges, not going through all the interior\n",
    "    for mov_row in range(-_kernel_lrow, _kernel_lrow + 1):\n",
    "        for mov_col in range(-_kernel_lcol, _kernel_lcol + 1):\n",
    "            if _index_out_of_bounds(arr, row + mov_row, col + mov_col):\n",
    "                continue\n",
    "            \n",
    "            weight = kernel[mov_row + _kernel_lrow][mov_col + _kernel_lcol]\n",
    "            _dot = weight * arr[row + mov_row][col + mov_col]\n",
    "            weighted_sum += _dot\n",
    "            kernel_weights_used += weight\n",
    "            \n",
    "    return weighted_sum / kernel_weights_used"
   ]
  },
  {
   "cell_type": "code",
   "execution_count": 6,
   "metadata": {},
   "outputs": [
    {
     "name": "stdout",
     "output_type": "stream",
     "text": [
      "tensor([[[[28., 32., 36.],\n",
      "          [48., 52., 56.],\n",
      "          [68., 72., 76.]]]])\n"
     ]
    }
   ],
   "source": [
    "import torch\n",
    "\n",
    "tensor1 = torch.Tensor([[[\n",
    "    [1, 2, 3, 4, 5],\n",
    "    [6, 7, 8, 9, 10],\n",
    "    [11, 12, 13, 14, 15],\n",
    "    [16, 17, 18, 19, 20],\n",
    "    [21, 22, 23, 24, 25]\n",
    "]]])\n",
    "\n",
    "kernel = torch.Tensor([[[\n",
    "    [0, 0, 0],\n",
    "    [0, 4, 0],\n",
    "    [0, 0, 0]\n",
    "]]])\n",
    "\n",
    "convolved = torch.nn.functional.conv2d(\n",
    "    input=tensor1,\n",
    "    weight=kernel\n",
    ")\n",
    "\n",
    "\n",
    "\n",
    "print(convolved)"
   ]
  },
  {
   "cell_type": "code",
   "execution_count": 17,
   "metadata": {},
   "outputs": [
    {
     "name": "stdout",
     "output_type": "stream",
     "text": [
      "[0, 0, 0, 0, 0]\n",
      "[0, 0, 0, 0, 0]\n",
      "[0, 0, 13, 0, 0]\n",
      "[0, 0, 0, 0, 0]\n",
      "[0, 0, 0, 0, 0]\n"
     ]
    }
   ],
   "source": [
    "def get_edge_indices(length, width, border_width):\n",
    "    edge_indices = []\n",
    "    for i in range(length):\n",
    "        if i < border_width or i >= length - border_width:\n",
    "            edge_indices.extend([(i, j) for j in range(width)])\n",
    "        else:\n",
    "            for j in range(border_width):\n",
    "                edge_indices.extend([(i, j), (i, width - 1 - j)])\n",
    "    return edge_indices\n",
    "\n",
    "testarr = [\n",
    "    [1, 2, 3, 4, 5],\n",
    "    [6, 7, 8, 9, 10],\n",
    "    [11, 12, 13, 14, 15],\n",
    "    [16, 17, 18, 19, 20],\n",
    "    [21, 22, 23, 24, 25]\n",
    "]\n",
    "\n",
    "for coord in get_edge_indices(5, 5, 2):\n",
    "    testarr[coord[0]][coord[1]] = 0\n",
    "    \n",
    "for row in testarr:\n",
    "    print(row)\n"
   ]
  },
  {
   "cell_type": "code",
   "execution_count": 2,
   "metadata": {},
   "outputs": [
    {
     "name": "stdout",
     "output_type": "stream",
     "text": [
      "tensor(0)\n"
     ]
    }
   ],
   "source": [
    "import torch\n",
    "\n",
    "tensor1 = torch.Tensor([\n",
    "    [0.5, 0.5, 3],\n",
    "    [4, 5, 6],\n",
    "    [7, 8, 9]\n",
    "]).long()\n",
    "\n",
    "coord = (0, 1)\n",
    "print(tensor1[*coord])"
   ]
  },
  {
   "cell_type": "code",
   "execution_count": 3,
   "metadata": {},
   "outputs": [
    {
     "name": "stdout",
     "output_type": "stream",
     "text": [
      "tensor([[0.1000, 0.2000, 0.3000],\n",
      "        [0.4000, 0.5000, 0.6000],\n",
      "        [0.7000, 0.8000, 0.9000]])\n"
     ]
    }
   ],
   "source": [
    "import torch\n",
    "\n",
    "tens1 = torch.Tensor([\n",
    "    [1, 2, 3],\n",
    "    [4, 5, 6],\n",
    "    [7, 8, 9]\n",
    "])\n",
    "\n",
    "tens1 = tens1/10\n",
    "\n",
    "print(tens1)"
   ]
  },
  {
   "cell_type": "code",
   "execution_count": 4,
   "metadata": {},
   "outputs": [
    {
     "name": "stdout",
     "output_type": "stream",
     "text": [
      "tensor([[[[0.0800, 0.2000, 0.2800, 0.2000, 0.0800],\n",
      "          [0.2000, 0.5200, 0.6400, 0.5200, 0.2000],\n",
      "          [0.2800, 0.6400, 0.8400, 0.6400, 0.2800],\n",
      "          [0.2000, 0.5200, 0.6400, 0.5200, 0.2000],\n",
      "          [0.0800, 0.2000, 0.2800, 0.2000, 0.0800]]]])\n"
     ]
    }
   ],
   "source": [
    "import torch\n",
    "\n",
    "tensor1 = torch.Tensor([[[\n",
    "    [0.0000, 0.0000, 0.0000, 0.0000, 0.0000, 0.0000, 0.0000],\n",
    "    [0.0000, 0.0000, 0.2000, 0.2000, 0.2000, 0.0000, 0.0000],\n",
    "    [0.0000, 0.2000, 0.6000, 0.8000, 0.6000, 0.2000, 0.0000],\n",
    "    [0.0000, 0.2000, 0.8000, 1.0000, 0.8000, 0.2000, 0.0000],\n",
    "    [0.0000, 0.2000, 0.6000, 0.8000, 0.6000, 0.2000, 0.0000],\n",
    "    [0.0000, 0.0000, 0.2000, 0.2000, 0.2000, 0.0000, 0.0000],\n",
    "    [0.0000, 0.0000, 0.0000, 0.0000, 0.0000, 0.0000, 0.0000]\n",
    "]]])\n",
    "\n",
    "conved = torch.nn.functional.conv2d(\n",
    "    tensor1, \n",
    "    torch.Tensor([[[\n",
    "        [0, 1, 0],\n",
    "        [1, 1, 1],\n",
    "        [0, 1, 0]\n",
    "    ]]])\n",
    ")\n",
    "\n",
    "print(conved / 5)"
   ]
  }
 ],
 "metadata": {
  "kernelspec": {
   "display_name": "Python 3",
   "language": "python",
   "name": "python3"
  },
  "language_info": {
   "codemirror_mode": {
    "name": "ipython",
    "version": 3
   },
   "file_extension": ".py",
   "mimetype": "text/x-python",
   "name": "python",
   "nbconvert_exporter": "python",
   "pygments_lexer": "ipython3",
   "version": "3.11.3"
  },
  "orig_nbformat": 4
 },
 "nbformat": 4,
 "nbformat_minor": 2
}
