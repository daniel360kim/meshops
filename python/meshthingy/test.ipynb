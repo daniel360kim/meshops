{
 "cells": [
  {
   "cell_type": "code",
   "execution_count": 3,
   "metadata": {},
   "outputs": [
    {
     "name": "stdout",
     "output_type": "stream",
     "text": [
      "tensor([[0., 1., 1., 1., 1.],\n",
      "        [1., 1., 1., 1., 1.],\n",
      "        [1., 1., 1., 1., 1.],\n",
      "        [1., 1., 1., 1., 1.],\n",
      "        [1., 1., 1., 1., 1.]])\n",
      "value at 0, 0 is 0.75\n",
      "value at 0, 1 is 0.8333333730697632\n",
      "value at 0, 2 is 1.0\n",
      "value at 0, 3 is 1.0\n",
      "value at 0, 4 is 1.0\n",
      "value at 1, 0 is 0.8333333730697632\n",
      "value at 1, 4 is 1.0\n",
      "value at 2, 0 is 1.0\n",
      "value at 2, 4 is 1.0\n",
      "value at 3, 0 is 1.0\n",
      "value at 3, 4 is 1.0\n",
      "value at 4, 0 is 1.0\n",
      "value at 4, 1 is 1.0\n",
      "value at 4, 2 is 1.0\n",
      "value at 4, 3 is 1.0\n",
      "value at 4, 4 is 1.0\n",
      "tensor([[0.7500, 0.8333, 1.0000, 1.0000, 1.0000],\n",
      "        [0.8333, 0.8889, 1.0000, 1.0000, 1.0000],\n",
      "        [1.0000, 1.0000, 1.0000, 1.0000, 1.0000],\n",
      "        [1.0000, 1.0000, 1.0000, 1.0000, 1.0000],\n",
      "        [1.0000, 1.0000, 1.0000, 1.0000, 1.0000]])\n"
     ]
    }
   ],
   "source": [
    "\n",
    "# XXX \n",
    "# TODO THIS CODE SNIPPET STARTS THE WEIGHTED AVERAGE FIX\n",
    "# XXX\n",
    "\n",
    "import torch\n",
    "from typing import Iterable, SupportsIndex\n",
    "\n",
    "def _index_out_of_bounds(arr: Iterable | SupportsIndex, row: int, col: int) -> bool:\n",
    "    \"\"\"\n",
    "    Checks if a row and column are out of bounds of a 2D array.\n",
    "    \"\"\"\n",
    "    return row < 0 or col < 0 or row >= len(arr) or col >= len(arr[row])\n",
    "\n",
    "def weighted_pool(arr: torch.Tensor | SupportsIndex, row: int, col: int, kernel: torch.Tensor) -> list:\n",
    "    \"\"\"\n",
    "    Finds the weighted average of a specified cell's neighbors, based on `kernel`.\n",
    "    Averages are calculated by (neighborhood of cell * kernel) / sum(kernel)\n",
    "    + If kernel is partially out of bounds, a partial average is calculated; no padding will\n",
    "    be added (neighborhood of cell that are in bounds * kernel in bounds) / sum(kernel in bounds)\n",
    "    \"\"\"\n",
    "    \n",
    "    weighted_sum = 0.0\n",
    "    kernel_weights_used = 0.0\n",
    "    \n",
    "    _kernel_lrow = kernel.shape[0] // 2 # radius along rows (horizontal), also the center row of the kernel\n",
    "    _kernel_lcol = kernel.shape[1] // 2 # radius along cols (vertical), also the center col of the kernel\n",
    "    \n",
    "    for mov_row in range(-_kernel_lrow, _kernel_lrow + 1):\n",
    "        for mov_col in range(-_kernel_lcol, _kernel_lcol + 1):\n",
    "            if _index_out_of_bounds(arr, row + mov_row, col + mov_col):\n",
    "                continue\n",
    "            \n",
    "            weight = kernel[mov_row + _kernel_lrow][mov_col + _kernel_lcol]\n",
    "            _dot = weight * arr[row + mov_row][col + mov_col]\n",
    "            weighted_sum += _dot\n",
    "            kernel_weights_used += weight\n",
    "            \n",
    "    return weighted_sum / kernel_weights_used\n",
    "\n",
    "# create a tensor\n",
    "tensor = torch.ones((5, 5))\n",
    "tensor[0][0] = 0.0\n",
    "print(tensor)\n",
    "# create weights. should be symmetrical\n",
    "weights = torch.Tensor([[1.0, 1.0, 1.0], [1.0, 1.0, 1.0], [1.0, 1.0, 1.0]])\n",
    "weights = weights / sum(weights.view(-1))\n",
    "\n",
    "# apply the weighted average to each element based on its neighbors\n",
    "weighted_tensor = torch.nn.functional.conv2d(tensor.view(1, 1, 5, 5), weights.view(1, 1, 3, 3), padding=1)\n",
    "\n",
    "# loop through the edge of the original tensor and find the correct values (without padding\n",
    "weighted_tensor = weighted_tensor.view(5, 5)\n",
    "\n",
    "aux_arr = weighted_tensor.clone()\n",
    "for row in range(len(tensor)):\n",
    "    for col in range(len(tensor[row])):\n",
    "        if row == 0 or row == len(tensor) - 1 or col == 0 or col == len(tensor[row]) - 1:\n",
    "            # on the edge of the tensor\n",
    "            value = weighted_pool(tensor, row, col, weights)\n",
    "            print(f\"value at {row}, {col} is {value}\")\n",
    "            aux_arr[row][col] = value\n",
    "\n",
    "print(aux_arr)\n"
   ]
  },
  {
   "cell_type": "code",
   "execution_count": 70,
   "metadata": {},
   "outputs": [
    {
     "name": "stdout",
     "output_type": "stream",
     "text": [
      "[1, 2, 3, 7, 8, 11, 12, 13, 16, 17, 18]\n"
     ]
    }
   ],
   "source": [
    "def _index_out_of_bounds(arr, row: int, col: int) -> bool:\n",
    "    \"\"\"\n",
    "    Checks if a row and column are out of bounds of a 2D array.\n",
    "    \"\"\"\n",
    "    return row < 0 or col < 0 or row >= len(arr) or col >= len(arr[row])\n",
    "\n",
    "def get_numbers_around_location(arr, row: int, col: int, radius: int = 1) -> list:\n",
    "    \"\"\"\n",
    "    Gets all numbers around a specified location in a 2D array as a list.\n",
    "    If on edge, the list will contain less numbers.\n",
    "    \"\"\"\n",
    "    nums = []\n",
    "    \n",
    "    for mov_row in range(-radius, radius + 1):\n",
    "        for mov_col in range(-radius, radius + 1):\n",
    "            if mov_row == 0 and mov_col == 0:\n",
    "                continue\n",
    "            \n",
    "            if _index_out_of_bounds(arr, row + mov_row, col + mov_col):\n",
    "                continue\n",
    "            \n",
    "            nums.append(arr[max(0,row + mov_row)][max(0,col + mov_col)])\n",
    "    return nums\n",
    "            \n",
    "testarr = [\n",
    "    [1, 2, 3, 4, 5],\n",
    "    [6, 7, 8, 9, 10],\n",
    "    [11,12,13,14,15],\n",
    "    [16,17,18,19,20],\n",
    "    [21,22,23,24,25]    \n",
    "]\n",
    "\n",
    "print(get_numbers_around_location(testarr, 1, 0, 2))"
   ]
  },
  {
   "cell_type": "code",
   "execution_count": 45,
   "metadata": {},
   "outputs": [
    {
     "name": "stdout",
     "output_type": "stream",
     "text": [
      "tensor([[0.1778, 0.3000, 0.3667, 0.4333, 0.3111],\n",
      "        [0.4333, 0.7000, 0.8000, 0.9000, 0.6333],\n",
      "        [0.7667, 1.2000, 1.3000, 1.4000, 0.9667],\n",
      "        [1.1000, 1.7000, 1.8000, 1.9000, 1.3000],\n",
      "        [0.8444, 1.3000, 1.3667, 1.4333, 0.9778]])\n"
     ]
    }
   ],
   "source": []
  }
 ],
 "metadata": {
  "kernelspec": {
   "display_name": "Python 3",
   "language": "python",
   "name": "python3"
  },
  "language_info": {
   "codemirror_mode": {
    "name": "ipython",
    "version": 3
   },
   "file_extension": ".py",
   "mimetype": "text/x-python",
   "name": "python",
   "nbconvert_exporter": "python",
   "pygments_lexer": "ipython3",
   "version": "3.11.3"
  },
  "orig_nbformat": 4
 },
 "nbformat": 4,
 "nbformat_minor": 2
}
